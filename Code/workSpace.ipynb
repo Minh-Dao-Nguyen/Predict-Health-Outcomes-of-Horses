{
 "cells": [
  {
   "cell_type": "code",
   "execution_count": 66,
   "metadata": {},
   "outputs": [],
   "source": [
    "#Import \n",
    "import pandas as pd\n",
    "import numpy as np"
   ]
  },
  {
   "cell_type": "code",
   "execution_count": 67,
   "metadata": {},
   "outputs": [],
   "source": [
    "#equation for cleaning\n",
    "def yesNoEncoding(x):\n",
    "    if x == 'yes':\n",
    "        return 1.0\n",
    "    else:\n",
    "        return 0.0\n",
    "\n",
    "def adultEncoding(x):\n",
    "    if x == 'adult':\n",
    "        return 1.0\n",
    "    else:\n",
    "        return 0.0 "
   ]
  },
  {
   "cell_type": "code",
   "execution_count": 68,
   "metadata": {},
   "outputs": [
    {
     "name": "stdout",
     "output_type": "stream",
     "text": [
      "Index(['surgery', 'age', 'hospital_number', 'rectal_temp', 'pulse',\n",
      "       'respiratory_rate', 'temp_of_extremities', 'peripheral_pulse',\n",
      "       'mucous_membrane', 'capillary_refill_time', 'pain', 'peristalsis',\n",
      "       'abdominal_distention', 'nasogastric_tube', 'nasogastric_reflux',\n",
      "       'nasogastric_reflux_ph', 'rectal_exam_feces', 'abdomen',\n",
      "       'packed_cell_volume', 'total_protein', 'abdomo_appearance',\n",
      "       'abdomo_protein', 'surgical_lesion', 'lesion_1', 'lesion_2', 'lesion_3',\n",
      "       'cp_data', 'outcome'],\n",
      "      dtype='object')\n"
     ]
    },
    {
     "data": {
      "text/plain": [
       "surgery                   object\n",
       "age                       object\n",
       "hospital_number            int64\n",
       "rectal_temp              float64\n",
       "pulse                    float64\n",
       "respiratory_rate         float64\n",
       "temp_of_extremities       object\n",
       "peripheral_pulse          object\n",
       "mucous_membrane           object\n",
       "capillary_refill_time     object\n",
       "pain                      object\n",
       "peristalsis               object\n",
       "abdominal_distention      object\n",
       "nasogastric_tube          object\n",
       "nasogastric_reflux        object\n",
       "nasogastric_reflux_ph    float64\n",
       "rectal_exam_feces         object\n",
       "abdomen                   object\n",
       "packed_cell_volume       float64\n",
       "total_protein            float64\n",
       "abdomo_appearance         object\n",
       "abdomo_protein           float64\n",
       "surgical_lesion           object\n",
       "lesion_1                   int64\n",
       "lesion_2                   int64\n",
       "lesion_3                   int64\n",
       "cp_data                   object\n",
       "outcome                   object\n",
       "dtype: object"
      ]
     },
     "execution_count": 68,
     "metadata": {},
     "output_type": "execute_result"
    }
   ],
   "source": [
    "#Load Data\n",
    "x_path = '../Data/train.csv'\n",
    "\n",
    "df = pd.read_csv(x_path, index_col=0)\n",
    "\n",
    "#print(df.head())\n",
    "print(df.columns)\n",
    "df.dtypes"
   ]
  },
  {
   "cell_type": "code",
   "execution_count": 69,
   "metadata": {},
   "outputs": [],
   "source": [
    "#Change age, adule = 1, young = 0\n",
    "df['age'] = df['age'].apply(adultEncoding)\n",
    "#print(df['age'].head())"
   ]
  },
  {
   "cell_type": "code",
   "execution_count": 70,
   "metadata": {},
   "outputs": [],
   "source": [
    "#Change yes, no data to binary\n",
    "df['surgery'] = df['surgery'].apply(yesNoEncoding)\n",
    "df['surgical_lesion'] = df['surgical_lesion'].apply(yesNoEncoding)\n",
    "df['cp_data'] = df['cp_data'].apply(yesNoEncoding)\n",
    "#print(df['surgery'].head())\n",
    "#print(df['surgical_lesion'].head())"
   ]
  },
  {
   "cell_type": "code",
   "execution_count": 71,
   "metadata": {},
   "outputs": [],
   "source": [
    "#drop hopspital number\n",
    "df = df.drop(['hospital_number'], axis=1)"
   ]
  },
  {
   "cell_type": "code",
   "execution_count": 72,
   "metadata": {},
   "outputs": [],
   "source": [
    "##### ONE HOT ENCODING #####\n",
    "\n",
    "#temp_of_extremities\n",
    "df = pd.get_dummies(df, columns=['temp_of_extremities'], prefix=['temp_of_extremities'])\n",
    "#peripheral_pulse\n",
    "df = pd.get_dummies(df, columns=['peripheral_pulse'], prefix=['peripheral_pulse'])\n",
    "#mucous_membrane\n",
    "df = pd.get_dummies(df, columns=['mucous_membrane'], prefix=['mucous_membrane'])\n",
    "#capillary_refill_time\n",
    "df = pd.get_dummies(df, columns=['capillary_refill_time'], prefix=['capillary_refill_time'])\n",
    "#pain\n",
    "df = pd.get_dummies(df, columns=['pain'], prefix=['pain'])\n",
    "#peristalsis\n",
    "df = pd.get_dummies(df, columns=['peristalsis'], prefix=['peristalsis'])\n",
    "#abdominal_distention\n",
    "df = pd.get_dummies(df, columns=['abdominal_distention'], prefix=['abdominal_distention'])\n",
    "#nasogastric_tube\n",
    "df = pd.get_dummies(df, columns=['nasogastric_tube'], prefix=['nasogastric_tube'])\n",
    "#nasogastric_reflux\n",
    "df = pd.get_dummies(df, columns=['nasogastric_reflux'], prefix=['nasogastric_reflux'])\n",
    "#rectal_exam_feces\n",
    "df = pd.get_dummies(df, columns=['rectal_exam_feces'], prefix=['rectal_exam_feces'])\n",
    "#abdomen\n",
    "df = pd.get_dummies(df, columns=['abdomen'], prefix=['abdomen'])\n",
    "#abdomo_appearance\n",
    "df= pd.get_dummies(df, columns=['abdomo_appearance'], prefix=['abdomo_appearance'])\n",
    "\n"
   ]
  },
  {
   "cell_type": "code",
   "execution_count": 88,
   "metadata": {},
   "outputs": [],
   "source": [
    "#change all the columns to float\n",
    "for cols in df.columns:\n",
    "    if df[cols].dtype != 'float64':\n",
    "        df[cols] = df[cols].astype('float64')\n",
    "    "
   ]
  }
 ],
 "metadata": {
  "kernelspec": {
   "display_name": "base",
   "language": "python",
   "name": "python3"
  },
  "language_info": {
   "codemirror_mode": {
    "name": "ipython",
    "version": 3
   },
   "file_extension": ".py",
   "mimetype": "text/x-python",
   "name": "python",
   "nbconvert_exporter": "python",
   "pygments_lexer": "ipython3",
   "version": "3.8.8"
  },
  "orig_nbformat": 4
 },
 "nbformat": 4,
 "nbformat_minor": 2
}
